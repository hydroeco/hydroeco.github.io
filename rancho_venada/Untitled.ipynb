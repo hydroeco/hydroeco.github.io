{
 "cells": [
  {
   "cell_type": "code",
   "execution_count": 12,
   "metadata": {},
   "outputs": [],
   "source": [
    "import plotly.graph_objs as go\n",
    "import plotly.tools as tls\n",
    "import plotly.io as pio\n",
    "from plotly.subplots import make_subplots\n",
    "import plotly.io as pio\n",
    "import plotly.graph_objects as go\n",
    "import pandas as pd\n",
    "import json\n",
    "import requests\n",
    "import numpy as np\n",
    "import time\n",
    "import ee; ee.Initialize()\n",
    "import numpy as np\n",
    "import matplotlib.pyplot as plt\n",
    "import datetime\n",
    "import matplotlib\n",
    "import functools\n",
    "import glob\n",
    "import csv\n",
    "import os\n",
    "import itertools\n",
    "from plotly import tools\n",
    "import datetime\n"
   ]
  },
  {
   "cell_type": "code",
   "execution_count": 20,
   "metadata": {},
   "outputs": [
    {
     "name": "stderr",
     "output_type": "stream",
     "text": [
      "/home/pi/miniconda3/envs/py3/lib/python3.5/site-packages/ipykernel_launcher.py:30: FutureWarning:\n",
      "\n",
      "how in .resample() is deprecated\n",
      "the new syntax is .resample(...)..apply(<func>)\n",
      "\n"
     ]
    }
   ],
   "source": [
    "rvws = pd.read_csv('./rvws.csv',index_col=0,parse_dates=True)\n",
    "tempname = 'RanchoVenadaWs_Air_Temp_Avg'\n",
    "relname = 'RanchoVenadaWs_Relative_Humidity_Max'\n",
    "airtemp_wssr = rvws[tempname]\n",
    "relH_wssr = rvws[relname]\n",
    "SVP_wssr = 610.7*10**(7.5*airtemp_wssr/(237.3+airtemp_wssr))#[Pa]\n",
    "vpd_wssr = (((100-relH_wssr)/100)*SVP_wssr)/1000 #KPa\n",
    "vpd_wssr = pd.DataFrame({'vpd':vpd_wssr.values}, index=vpd_wssr.index).sort_index().resample('1H').mean()\n",
    "freq = '1H'\n",
    "\n",
    "newnames = {'RanchoVenadaWs_Air_Temp_Avg':'Temp (F)', \n",
    "            'RanchoVenadaWs_Rainfall':'Precip (in)',\n",
    "       'RanchoVenadaWs_Relative_Humidity_Max':'Rel humidity ( )',\n",
    "       'RanchoVenadaWs_Barometric_Pressure':'Pressure (in Hg)',\n",
    "       'RanchoVenadaWs_Wind_Speed_Avg':'Wind (mph)',\n",
    "       'RanchoVenadaWs_Solar_Radiation_Avg':'Rad. (w/m2)'}\n",
    "rvws = rvws[list(newnames)]\n",
    "newcols = [newnames[item] for item in rvws.columns]\n",
    "rvws.columns = newcols\n",
    "rvws['Temp (F)'] = rvws['Temp (F)']*9/5. + 32.\n",
    "rvws['Precip (in)'] = rvws['Precip (in)']*0.0393701\n",
    "rvws['Pressure (in Hg)'] = rvws['Pressure (in Hg)']*0.02953\n",
    "rvws['Wind (mph)'] = rvws['Wind (mph)']*2.23694\n",
    "rvws['Rel humidity ( )'] = rvws['Rel humidity ( )']/100.0\n",
    "rvws = rvws.resample(freq, how={'Temp (F)': np.mean,\n",
    "                                'Precip (in)': np.sum,\n",
    "                                'Pressure (in Hg)': np.mean,\n",
    "                                'Wind (mph)':np.mean,\n",
    "                                'Rel humidity ( )': np.mean, \n",
    "                                'Rad. (w/m2)':np.mean})\n",
    "\n",
    "\n",
    "rvws['wy'] = [item.year if item.month>=1 and item.month<10 else item.year+1 for item in rvws.index]\n",
    "rvws['Precip (in)'] = rvws.groupby('wy').apply(lambda item: item['Precip (in)'].cumsum()).values\n",
    "# rvws = rvws.drop(['wy'], axis=1)"
   ]
  },
  {
   "cell_type": "code",
   "execution_count": 18,
   "metadata": {},
   "outputs": [
    {
     "data": {
      "image/png": "[encoded data removed]",
      "text/plain": [
       "<matplotlib.figure.Figure at 0xa78c7e90>"
      ]
     },
     "metadata": {
      "needs_background": "light"
     },
     "output_type": "display_data"
    }
   ],
   "source": [
    "rvws = rvws[['Wind (mph)', 'Precip (in)', 'Temp (F)', 'Rel humidity ( )']]\n",
    "f, axs = plt.subplots(2,2,sharex=True,figsize=(12,6))\n"
   ]
  },
  {
   "cell_type": "code",
   "execution_count": null,
   "metadata": {},
   "outputs": [],
   "source": []
  }
 ],
 "metadata": {
  "kernelspec": {
   "display_name": "py3",
   "language": "python",
   "name": "py3"
  },
  "language_info": {
   "codemirror_mode": {
    "name": "ipython",
    "version": 3
   },
   "file_extension": ".py",
   "mimetype": "text/x-python",
   "name": "python",
   "nbconvert_exporter": "python",
   "pygments_lexer": "ipython3",
   "version": "3.5.6"
  }
 },
 "nbformat": 4,
 "nbformat_minor": 4
}
